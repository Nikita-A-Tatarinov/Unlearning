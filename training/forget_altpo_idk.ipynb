{
 "cells": [
  {
   "cell_type": "code",
   "execution_count": 1,
   "metadata": {},
   "outputs": [
    {
     "name": "stderr",
     "output_type": "stream",
     "text": [
      "/home/hice1/hkhanuja3/scratch/DLT2/lib64/python3.9/site-packages/tqdm/auto.py:21: TqdmWarning: IProgress not found. Please update jupyter and ipywidgets. See https://ipywidgets.readthedocs.io/en/stable/user_install.html\n",
      "  from .autonotebook import tqdm as notebook_tqdm\n"
     ]
    }
   ],
   "source": [
    "from data_module import TextDataset\n",
    "from dataloader import compute_loss, custom_data_collator_forget, compute_idk_loss\n",
    "import torch\n",
    "from transformers import AutoTokenizer, AutoModelForCausalLM, set_seed, BitsAndBytesConfig\n",
    "import transformers\n",
    "import os\n",
    "from peft import LoraConfig, get_peft_model\n",
    "import wandb\n",
    "from torch.utils.data import DataLoader\n",
    "from torch.optim import AdamW\n",
    "from transformers import get_scheduler\n",
    "import torch.nn.functional as F\n",
    "from tqdm import tqdm\n",
    "from accelerate import Accelerator\n",
    "import copy\n",
    "from torch.cuda.amp import GradScaler, autocast"
   ]
  },
  {
   "cell_type": "code",
   "execution_count": null,
   "metadata": {},
   "outputs": [],
   "source": [
    "def train_loop(peft_model, base_model, dataloader, optimizer, scheduler, num_epochs, gradient_accumulation_steps, save_dir, start_epoch):\n",
    "\n",
    "\n",
    "    peft_model.train()\n",
    "    # base_model.eval()\n",
    "\n",
    "\n",
    "    for epoch in range(start_epoch, num_epochs):\n",
    "        epoch_loss = 0.0\n",
    "        progress_bar = tqdm(\n",
    "            dataloader,\n",
    "            desc=f\"Epoch {epoch + 1}/{num_epochs}\",\n",
    "        )\n",
    "        optimizer.zero_grad()\n",
    "\n",
    "        for step, batch in enumerate(progress_bar):\n",
    "            \n",
    "            inputs = batch\n",
    "\n",
    "\n",
    "            # Compute custom loss\n",
    "            loss = compute_idk_loss(peft_model, inputs)\n",
    "            scaled_loss = loss / gradient_accumulation_steps  # Scale loss for accumulation\n",
    "\n",
    "            scaled_loss.backward()\n",
    "\n",
    "            # Perform optimizer and scheduler step\n",
    "            if (step + 1) % gradient_accumulation_steps == 0 or (step + 1) == len(dataloader):\n",
    "                optimizer.step()\n",
    "                # scheduler.step()\n",
    "                optimizer.zero_grad()\n",
    "\n",
    "\n",
    "            epoch_loss += loss.item()\n",
    "            progress_bar.set_postfix(loss=epoch_loss / len(dataloader))\n",
    "        torch.save(\n",
    "        {\n",
    "            \"epoch\": epoch + 1,\n",
    "            \"model_state_dict\": peft_model.state_dict(),\n",
    "            \"optimizer_state_dict\": optimizer.state_dict(),\n",
    "            # \"scheduler_state_dict\": scheduler.state_dict(),\n",
    "            \"loss\": epoch_loss,\n",
    "        },\n",
    "        os.path.join(save_dir, f\"checkpoint_epoch_{epoch + 1}.pt\")\n",
    "        )\n",
    "        peft_model.save_pretrained(f\"results/peft_checkpoint_{epoch+1}/\")\n",
    "        print(f\"Epoch {epoch + 1} Loss: {epoch_loss / len(dataloader)}\")"
   ]
  },
  {
   "cell_type": "code",
   "execution_count": null,
   "metadata": {},
   "outputs": [
    {
     "name": "stderr",
     "output_type": "stream",
     "text": [
      "Loading checkpoint shards: 100%|██████████| 7/7 [00:07<00:00,  1.09s/it]\n"
     ]
    }
   ],
   "source": [
    "seed_num = 42\n",
    "set_seed(seed_num)\n",
    "\n",
    "batch_size = 4\n",
    "gradient_accumulation_steps = 4\n",
    "num_epochs = 10\n",
    "max_length = 256\n",
    "data_path = 'data/'\n",
    "lr = 1e-4\n",
    "weight_decay = 0.01\n",
    "save_dir = 'results/'\n",
    "start_epoch = 0\n",
    "\n",
    "bnb_config = BitsAndBytesConfig(\n",
    "    load_in_4bit=True, bnb_4bit_quant_type=\"nf4\", bnb_4bit_compute_dtype=\"float16\", bnb_4bit_use_double_quant=True\n",
    ")\n",
    "model = AutoModelForCausalLM.from_pretrained('PKU-Alignment/alpaca-7b-reproduced', quantization_config=bnb_config, device_map='auto')\n",
    "tokenizer = AutoTokenizer.from_pretrained('PKU-Alignment/alpaca-7b-reproduced')"
   ]
  },
  {
   "cell_type": "code",
   "execution_count": 5,
   "metadata": {},
   "outputs": [
    {
     "name": "stdout",
     "output_type": "stream",
     "text": [
      "trainable params: 8,388,608 || all params: 6,746,812,416 || trainable%: 0.1243\n"
     ]
    }
   ],
   "source": [
    "torch_format_dataset = TextDataset(data_path, tokenizer=tokenizer, max_length=max_length)\n",
    "dataloader = DataLoader(torch_format_dataset, batch_size=batch_size, collate_fn=custom_data_collator_forget)\n",
    "\n",
    "\n",
    "peft_config = LoraConfig(\n",
    "    r=16, lora_alpha=32, lora_dropout=0.05, bias=\"none\", task_type=\"CAUSAL_LM\"\n",
    ")\n",
    "\n",
    "peft_model = get_peft_model(model, peft_config)\n",
    "peft_model.print_trainable_parameters()\n",
    "\n",
    "# Define optimizer and scheduler\n",
    "optimizer = AdamW(peft_model.parameters(), lr=lr, weight_decay=weight_decay)\n",
    "num_training_steps = num_epochs * (len(torch_format_dataset) // batch_size)\n",
    "scheduler = get_scheduler(\"linear\", optimizer=optimizer, num_warmup_steps=0, num_training_steps=num_training_steps)"
   ]
  },
  {
   "cell_type": "code",
   "execution_count": 6,
   "metadata": {},
   "outputs": [],
   "source": [
    "# print('Loading saved weights')\n",
    "# desired_epoch = 7\n",
    "# checkpoint = torch.load(os.path.join(save_dir, f\"checkpoint_epoch_{desired_epoch}.pt\"))\n",
    "# peft_model.load_state_dict(checkpoint[\"model_state_dict\"], strict=False)\n",
    "# optimizer.load_state_dict(checkpoint[\"optimizer_state_dict\"])\n",
    "# scheduler.load_state_dict(checkpoint[\"scheduler_state_dict\"])\n",
    "# start_epoch = desired_epoch"
   ]
  },
  {
   "cell_type": "code",
   "execution_count": 7,
   "metadata": {},
   "outputs": [
    {
     "name": "stdout",
     "output_type": "stream",
     "text": [
      "Starting training\n"
     ]
    },
    {
     "name": "stderr",
     "output_type": "stream",
     "text": [
      "Epoch 1/10: 100%|██████████| 1200/1200 [23:15<00:00,  1.16s/it, loss=1.51]\n"
     ]
    },
    {
     "name": "stdout",
     "output_type": "stream",
     "text": [
      "Epoch 1 Loss: 1.5076308125257492\n"
     ]
    },
    {
     "name": "stderr",
     "output_type": "stream",
     "text": [
      "Epoch 2/10: 100%|██████████| 1200/1200 [23:15<00:00,  1.16s/it, loss=1.39]\n"
     ]
    },
    {
     "name": "stdout",
     "output_type": "stream",
     "text": [
      "Epoch 2 Loss: 1.3896985928714276\n"
     ]
    },
    {
     "name": "stderr",
     "output_type": "stream",
     "text": [
      "Epoch 3/10: 100%|██████████| 1200/1200 [23:16<00:00,  1.16s/it, loss=1.34]\n"
     ]
    },
    {
     "name": "stdout",
     "output_type": "stream",
     "text": [
      "Epoch 3 Loss: 1.3442927270630995\n"
     ]
    },
    {
     "name": "stderr",
     "output_type": "stream",
     "text": [
      "Epoch 4/10: 100%|██████████| 1200/1200 [23:19<00:00,  1.17s/it, loss=1.29]\n"
     ]
    },
    {
     "name": "stdout",
     "output_type": "stream",
     "text": [
      "Epoch 4 Loss: 1.2914888248344263\n"
     ]
    },
    {
     "name": "stderr",
     "output_type": "stream",
     "text": [
      "Epoch 5/10: 100%|██████████| 1200/1200 [23:20<00:00,  1.17s/it, loss=1.23]\n"
     ]
    },
    {
     "name": "stdout",
     "output_type": "stream",
     "text": [
      "Epoch 5 Loss: 1.2287211971978347\n"
     ]
    },
    {
     "name": "stderr",
     "output_type": "stream",
     "text": [
      "Epoch 6/10: 100%|██████████| 1200/1200 [23:15<00:00,  1.16s/it, loss=1.16] \n"
     ]
    },
    {
     "name": "stdout",
     "output_type": "stream",
     "text": [
      "Epoch 6 Loss: 1.1575333762168885\n"
     ]
    },
    {
     "name": "stderr",
     "output_type": "stream",
     "text": [
      "Epoch 7/10: 100%|██████████| 1200/1200 [23:19<00:00,  1.17s/it, loss=1.08] \n"
     ]
    },
    {
     "name": "stdout",
     "output_type": "stream",
     "text": [
      "Epoch 7 Loss: 1.0806388148168722\n"
     ]
    },
    {
     "name": "stderr",
     "output_type": "stream",
     "text": [
      "Epoch 8/10: 100%|██████████| 1200/1200 [23:15<00:00,  1.16s/it, loss=1]    \n"
     ]
    },
    {
     "name": "stdout",
     "output_type": "stream",
     "text": [
      "Epoch 8 Loss: 1.0018975021441778\n"
     ]
    },
    {
     "name": "stderr",
     "output_type": "stream",
     "text": [
      "Epoch 9/10: 100%|██████████| 1200/1200 [23:15<00:00,  1.16s/it, loss=0.926]\n"
     ]
    },
    {
     "name": "stdout",
     "output_type": "stream",
     "text": [
      "Epoch 9 Loss: 0.9257953817645709\n"
     ]
    },
    {
     "name": "stderr",
     "output_type": "stream",
     "text": [
      "Epoch 10/10: 100%|██████████| 1200/1200 [23:19<00:00,  1.17s/it, loss=0.857]\n"
     ]
    },
    {
     "name": "stdout",
     "output_type": "stream",
     "text": [
      "Epoch 10 Loss: 0.8574510693301757\n"
     ]
    }
   ],
   "source": [
    "print('Starting training')\n",
    "train_loop(\n",
    "        model=peft_model,\n",
    "        base_model=None,\n",
    "        dataloader=dataloader,\n",
    "        optimizer=optimizer,\n",
    "        scheduler=scheduler,\n",
    "        num_epochs=num_epochs,\n",
    "        gradient_accumulation_steps=gradient_accumulation_steps,\n",
    "        save_dir = save_dir,\n",
    "        start_epoch = start_epoch\n",
    "    )"
   ]
  },
  {
   "cell_type": "code",
   "execution_count": 8,
   "metadata": {},
   "outputs": [
    {
     "name": "stderr",
     "output_type": "stream",
     "text": [
      "/home/hice1/hkhanuja3/scratch/DLT2/lib64/python3.9/site-packages/peft/tuners/lora/bnb.py:336: UserWarning: Merge lora module to 4-bit linear may get different generations due to rounding errors.\n",
      "  warnings.warn(\n"
     ]
    },
    {
     "data": {
      "text/plain": [
       "('/home/hice1/hkhanuja3/scratch/alpaca_accelerate/idk_loss/scheduler_with_retain_one_alternate/final_result/final_merged_model/tokenizer_config.json',\n",
       " '/home/hice1/hkhanuja3/scratch/alpaca_accelerate/idk_loss/scheduler_with_retain_one_alternate/final_result/final_merged_model/special_tokens_map.json',\n",
       " '/home/hice1/hkhanuja3/scratch/alpaca_accelerate/idk_loss/scheduler_with_retain_one_alternate/final_result/final_merged_model/tokenizer.json')"
      ]
     },
     "execution_count": 8,
     "metadata": {},
     "output_type": "execute_result"
    }
   ],
   "source": [
    "merged_model = peft_model.merge_and_unload()\n",
    "merged_model.save_pretrained(save_dir+\"final_result/final_merged_model\")\n",
    "tokenizer.save_pretrained(save_dir+\"final_result/final_merged_model\")"
   ]
  }
 ],
 "metadata": {
  "kernelspec": {
   "display_name": "DLT2",
   "language": "python",
   "name": "python3"
  },
  "language_info": {
   "codemirror_mode": {
    "name": "ipython",
    "version": 3
   },
   "file_extension": ".py",
   "mimetype": "text/x-python",
   "name": "python",
   "nbconvert_exporter": "python",
   "pygments_lexer": "ipython3",
   "version": "3.9.18"
  },
  "orig_nbformat": 4
 },
 "nbformat": 4,
 "nbformat_minor": 2
}
