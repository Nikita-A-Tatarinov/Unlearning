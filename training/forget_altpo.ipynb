{
 "cells": [
  {
   "cell_type": "code",
   "execution_count": 1,
   "metadata": {},
   "outputs": [
    {
     "name": "stderr",
     "output_type": "stream",
     "text": [
      "/home/hice1/hkhanuja3/scratch/DLT2/lib64/python3.9/site-packages/tqdm/auto.py:21: TqdmWarning: IProgress not found. Please update jupyter and ipywidgets. See https://ipywidgets.readthedocs.io/en/stable/user_install.html\n",
      "  from .autonotebook import tqdm as notebook_tqdm\n"
     ]
    }
   ],
   "source": [
    "from data_module import TextDataset\n",
    "from dataloader import compute_loss, custom_data_collator_forget, compute_idk_loss\n",
    "import torch\n",
    "from transformers import AutoTokenizer, AutoModelForCausalLM, set_seed, BitsAndBytesConfig\n",
    "import transformers\n",
    "import os\n",
    "from peft import LoraConfig, get_peft_model\n",
    "import wandb\n",
    "from torch.utils.data import DataLoader\n",
    "from torch.optim import AdamW\n",
    "from transformers import get_scheduler\n",
    "import torch.nn.functional as F\n",
    "from tqdm import tqdm\n",
    "from accelerate import Accelerator\n",
    "import copy\n",
    "from torch.cuda.amp import GradScaler, autocast"
   ]
  },
  {
   "cell_type": "code",
   "execution_count": null,
   "metadata": {},
   "outputs": [],
   "source": [
    "def train_loop(peft_model, base_model, dataloader, optimizer, scheduler, num_epochs, gradient_accumulation_steps, save_dir, start_epoch):\n",
    "\n",
    "\n",
    "    peft_model.train()\n",
    "    base_model.eval()\n",
    "\n",
    "\n",
    "    for epoch in range(start_epoch, num_epochs):\n",
    "        epoch_loss = 0.0\n",
    "        progress_bar = tqdm(\n",
    "            dataloader,\n",
    "            desc=f\"Epoch {epoch + 1}/{num_epochs}\",\n",
    "        )\n",
    "        optimizer.zero_grad()\n",
    "\n",
    "        for step, batch in enumerate(progress_bar):\n",
    "            \n",
    "            inputs = batch\n",
    "\n",
    "\n",
    "            # Compute custom loss\n",
    "            loss = compute_loss(peft_model, inputs, base_model)\n",
    "            scaled_loss = loss / gradient_accumulation_steps  # Scale loss for accumulation\n",
    "\n",
    "            scaled_loss.backward()\n",
    "\n",
    "            # Perform optimizer and scheduler step\n",
    "            if (step + 1) % gradient_accumulation_steps == 0 or (step + 1) == len(dataloader):\n",
    "                optimizer.step()\n",
    "                scheduler.step()\n",
    "                optimizer.zero_grad()\n",
    "\n",
    "\n",
    "            epoch_loss += loss.item()\n",
    "            progress_bar.set_postfix(loss=epoch_loss / len(dataloader))\n",
    "        torch.save(\n",
    "        {\n",
    "            \"epoch\": epoch + 1,\n",
    "            \"model_state_dict\": peft_model.state_dict(),\n",
    "            \"optimizer_state_dict\": optimizer.state_dict(),\n",
    "            \"scheduler_state_dict\": scheduler.state_dict(),\n",
    "            \"loss\": epoch_loss,\n",
    "        },\n",
    "        os.path.join(save_dir, f\"checkpoint_epoch_{epoch + 1}.pt\")\n",
    "        )\n",
    "        peft_model.save_pretrained(f\"results/peft_checkpoint_{epoch+1}/\")\n",
    "        print(f\"Epoch {epoch + 1} Loss: {epoch_loss / len(dataloader)}\")"
   ]
  },
  {
   "cell_type": "code",
   "execution_count": null,
   "metadata": {},
   "outputs": [
    {
     "name": "stderr",
     "output_type": "stream",
     "text": [
      "Loading checkpoint shards: 100%|██████████| 7/7 [01:20<00:00, 11.53s/it]\n"
     ]
    }
   ],
   "source": [
    "seed_num = 42\n",
    "set_seed(seed_num)\n",
    "\n",
    "batch_size = 2\n",
    "gradient_accumulation_steps = 4\n",
    "num_epochs = 5\n",
    "max_length = 256\n",
    "data_path = 'data/'\n",
    "lr = 1e-4\n",
    "weight_decay = 0.01\n",
    "save_dir = 'results/'\n",
    "start_epoch = 0\n",
    "\n",
    "bnb_config = BitsAndBytesConfig(\n",
    "    load_in_4bit=True, bnb_4bit_quant_type=\"nf4\", bnb_4bit_compute_dtype=\"float16\", bnb_4bit_use_double_quant=True\n",
    ")\n",
    "model = AutoModelForCausalLM.from_pretrained('PKU-Alignment/alpaca-7b-reproduced', quantization_config=bnb_config, device_map='auto')\n",
    "tokenizer = AutoTokenizer.from_pretrained('PKU-Alignment/alpaca-7b-reproduced')\n"
   ]
  },
  {
   "cell_type": "code",
   "execution_count": 4,
   "metadata": {},
   "outputs": [
    {
     "name": "stderr",
     "output_type": "stream",
     "text": [
      "Loading checkpoint shards: 100%|██████████| 7/7 [00:03<00:00,  1.82it/s]\n"
     ]
    }
   ],
   "source": [
    "base_model = AutoModelForCausalLM.from_pretrained('PKU-Alignment/alpaca-7b-reproduced', quantization_config=bnb_config, device_map='auto')"
   ]
  },
  {
   "cell_type": "code",
   "execution_count": 5,
   "metadata": {},
   "outputs": [
    {
     "name": "stdout",
     "output_type": "stream",
     "text": [
      "trainable params: 8,388,608 || all params: 6,746,812,416 || trainable%: 0.1243\n"
     ]
    }
   ],
   "source": [
    "torch_format_dataset = TextDataset(data_path, tokenizer=tokenizer, max_length=max_length)\n",
    "dataloader = DataLoader(torch_format_dataset, batch_size=batch_size, collate_fn=custom_data_collator_forget)\n",
    "\n",
    "\n",
    "peft_config = LoraConfig(\n",
    "    r=16, lora_alpha=32, lora_dropout=0.05, bias=\"none\", task_type=\"CAUSAL_LM\"\n",
    ")\n",
    "\n",
    "peft_model = get_peft_model(model, peft_config)\n",
    "peft_model.print_trainable_parameters()\n",
    "\n",
    "# Define optimizer and scheduler\n",
    "optimizer = AdamW(peft_model.parameters(), lr=lr, weight_decay=weight_decay)\n",
    "num_training_steps = num_epochs * (len(torch_format_dataset) // batch_size)\n",
    "scheduler = get_scheduler(\"linear\", optimizer=optimizer, num_warmup_steps=0, num_training_steps=num_training_steps)"
   ]
  },
  {
   "cell_type": "code",
   "execution_count": 6,
   "metadata": {},
   "outputs": [
    {
     "name": "stdout",
     "output_type": "stream",
     "text": [
      "Loading saved weights\n"
     ]
    },
    {
     "name": "stderr",
     "output_type": "stream",
     "text": [
      "/scratch/967485/ipykernel_1912801/2527187278.py:3: FutureWarning: You are using `torch.load` with `weights_only=False` (the current default value), which uses the default pickle module implicitly. It is possible to construct malicious pickle data which will execute arbitrary code during unpickling (See https://github.com/pytorch/pytorch/blob/main/SECURITY.md#untrusted-models for more details). In a future release, the default value for `weights_only` will be flipped to `True`. This limits the functions that could be executed during unpickling. Arbitrary objects will no longer be allowed to be loaded via this mode unless they are explicitly allowlisted by the user via `torch.serialization.add_safe_globals`. We recommend you start setting `weights_only=True` for any use case where you don't have full control of the loaded file. Please open an issue on GitHub for any issues related to this experimental feature.\n",
      "  checkpoint = torch.load(os.path.join(save_dir, f\"checkpoint_epoch_{desired_epoch}.pt\"))\n"
     ]
    }
   ],
   "source": [
    "print('Loading saved weights')\n",
    "desired_epoch = 3\n",
    "checkpoint = torch.load(os.path.join(save_dir, f\"checkpoint_epoch_{desired_epoch}.pt\"))\n",
    "peft_model.load_state_dict(checkpoint[\"model_state_dict\"], strict=False)\n",
    "optimizer.load_state_dict(checkpoint[\"optimizer_state_dict\"])\n",
    "scheduler.load_state_dict(checkpoint[\"scheduler_state_dict\"])\n",
    "start_epoch = desired_epoch"
   ]
  },
  {
   "cell_type": "code",
   "execution_count": 7,
   "metadata": {},
   "outputs": [
    {
     "name": "stdout",
     "output_type": "stream",
     "text": [
      "Starting training\n"
     ]
    },
    {
     "name": "stderr",
     "output_type": "stream",
     "text": [
      "Epoch 4/5: 100%|██████████| 2400/2400 [1:56:59<00:00,  2.92s/it, loss=0.143]   \n"
     ]
    },
    {
     "name": "stdout",
     "output_type": "stream",
     "text": [
      "Epoch 4 Loss: 0.14339224822634908\n"
     ]
    },
    {
     "name": "stderr",
     "output_type": "stream",
     "text": [
      "Epoch 5/5: 100%|██████████| 2400/2400 [1:56:54<00:00,  2.92s/it, loss=0.123]   \n"
     ]
    },
    {
     "name": "stdout",
     "output_type": "stream",
     "text": [
      "Epoch 5 Loss: 0.12344643197832435\n"
     ]
    }
   ],
   "source": [
    "print('Starting training')\n",
    "train_loop(\n",
    "        model=peft_model,\n",
    "        base_model=base_model,\n",
    "        dataloader=dataloader,\n",
    "        optimizer=optimizer,\n",
    "        scheduler=scheduler,\n",
    "        num_epochs=num_epochs,\n",
    "        gradient_accumulation_steps=gradient_accumulation_steps,\n",
    "        save_dir = save_dir,\n",
    "        start_epoch = start_epoch\n",
    "    )"
   ]
  },
  {
   "cell_type": "code",
   "execution_count": 8,
   "metadata": {},
   "outputs": [
    {
     "name": "stderr",
     "output_type": "stream",
     "text": [
      "/home/hice1/hkhanuja3/scratch/DLT2/lib64/python3.9/site-packages/peft/tuners/lora/bnb.py:336: UserWarning: Merge lora module to 4-bit linear may get different generations due to rounding errors.\n",
      "  warnings.warn(\n"
     ]
    },
    {
     "data": {
      "text/plain": [
       "('/home/hice1/hkhanuja3/scratch/alpaca_accelerate/altpo_loss/wr_1/final_result/final_merged_model/tokenizer_config.json',\n",
       " '/home/hice1/hkhanuja3/scratch/alpaca_accelerate/altpo_loss/wr_1/final_result/final_merged_model/special_tokens_map.json',\n",
       " '/home/hice1/hkhanuja3/scratch/alpaca_accelerate/altpo_loss/wr_1/final_result/final_merged_model/tokenizer.json')"
      ]
     },
     "execution_count": 8,
     "metadata": {},
     "output_type": "execute_result"
    }
   ],
   "source": [
    "merged_model = peft_model.merge_and_unload()\n",
    "merged_model.save_pretrained(save_dir+\"final_result/final_merged_model\")\n",
    "tokenizer.save_pretrained(save_dir+\"final_result/final_merged_model\")"
   ]
  }
 ],
 "metadata": {
  "kernelspec": {
   "display_name": "DLT2",
   "language": "python",
   "name": "python3"
  },
  "language_info": {
   "codemirror_mode": {
    "name": "ipython",
    "version": 3
   },
   "file_extension": ".py",
   "mimetype": "text/x-python",
   "name": "python",
   "nbconvert_exporter": "python",
   "pygments_lexer": "ipython3",
   "version": "3.9.18"
  },
  "orig_nbformat": 4
 },
 "nbformat": 4,
 "nbformat_minor": 2
}
